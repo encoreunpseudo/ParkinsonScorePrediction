{
 "cells": [
  {
   "cell_type": "code",
   "execution_count": 2,
   "metadata": {},
   "outputs": [],
   "source": [
    "import pandas as pd\n",
    "import numpy as np\n",
    "import matplotlib.pyplot as plt\n",
    "import seaborn as sns\n",
    "\n",
    "X = pd.read_csv('data/X_train_6ZIKlTY.csv')\n",
    "y = pd.read_csv('data/y_train_lXj6X5y.csv')\n"
   ]
  },
  {
   "cell_type": "code",
   "execution_count": 3,
   "metadata": {},
   "outputs": [
    {
     "data": {
      "text/html": [
       "<div>\n",
       "<style scoped>\n",
       "    .dataframe tbody tr th:only-of-type {\n",
       "        vertical-align: middle;\n",
       "    }\n",
       "\n",
       "    .dataframe tbody tr th {\n",
       "        vertical-align: top;\n",
       "    }\n",
       "\n",
       "    .dataframe thead th {\n",
       "        text-align: right;\n",
       "    }\n",
       "</style>\n",
       "<table border=\"1\" class=\"dataframe\">\n",
       "  <thead>\n",
       "    <tr style=\"text-align: right;\">\n",
       "      <th></th>\n",
       "      <th>Index</th>\n",
       "      <th>patient_id</th>\n",
       "      <th>cohort</th>\n",
       "      <th>sexM</th>\n",
       "      <th>gene</th>\n",
       "      <th>age_at_diagnosis</th>\n",
       "      <th>age</th>\n",
       "      <th>ledd</th>\n",
       "      <th>time_since_intake_on</th>\n",
       "      <th>time_since_intake_off</th>\n",
       "      <th>on</th>\n",
       "      <th>off</th>\n",
       "    </tr>\n",
       "  </thead>\n",
       "  <tbody>\n",
       "    <tr>\n",
       "      <th>0</th>\n",
       "      <td>0</td>\n",
       "      <td>IPLP5212</td>\n",
       "      <td>A</td>\n",
       "      <td>0</td>\n",
       "      <td>LRRK2+</td>\n",
       "      <td>48.5</td>\n",
       "      <td>52.1</td>\n",
       "      <td>607.0</td>\n",
       "      <td>1.9</td>\n",
       "      <td>NaN</td>\n",
       "      <td>7.0</td>\n",
       "      <td>NaN</td>\n",
       "    </tr>\n",
       "    <tr>\n",
       "      <th>1</th>\n",
       "      <td>1</td>\n",
       "      <td>IPLP5212</td>\n",
       "      <td>A</td>\n",
       "      <td>0</td>\n",
       "      <td>LRRK2+</td>\n",
       "      <td>48.5</td>\n",
       "      <td>53.0</td>\n",
       "      <td>666.0</td>\n",
       "      <td>1.9</td>\n",
       "      <td>17.6</td>\n",
       "      <td>12.0</td>\n",
       "      <td>44.0</td>\n",
       "    </tr>\n",
       "    <tr>\n",
       "      <th>2</th>\n",
       "      <td>2</td>\n",
       "      <td>IPLP5212</td>\n",
       "      <td>A</td>\n",
       "      <td>0</td>\n",
       "      <td>LRRK2+</td>\n",
       "      <td>48.5</td>\n",
       "      <td>53.9</td>\n",
       "      <td>717.0</td>\n",
       "      <td>1.2</td>\n",
       "      <td>NaN</td>\n",
       "      <td>6.0</td>\n",
       "      <td>NaN</td>\n",
       "    </tr>\n",
       "    <tr>\n",
       "      <th>3</th>\n",
       "      <td>3</td>\n",
       "      <td>IPLP5212</td>\n",
       "      <td>A</td>\n",
       "      <td>0</td>\n",
       "      <td>LRRK2+</td>\n",
       "      <td>48.5</td>\n",
       "      <td>54.8</td>\n",
       "      <td>770.0</td>\n",
       "      <td>1.5</td>\n",
       "      <td>NaN</td>\n",
       "      <td>11.0</td>\n",
       "      <td>NaN</td>\n",
       "    </tr>\n",
       "    <tr>\n",
       "      <th>4</th>\n",
       "      <td>4</td>\n",
       "      <td>IPLP5212</td>\n",
       "      <td>A</td>\n",
       "      <td>0</td>\n",
       "      <td>LRRK2+</td>\n",
       "      <td>48.5</td>\n",
       "      <td>56.9</td>\n",
       "      <td>885.0</td>\n",
       "      <td>0.3</td>\n",
       "      <td>NaN</td>\n",
       "      <td>24.0</td>\n",
       "      <td>NaN</td>\n",
       "    </tr>\n",
       "  </tbody>\n",
       "</table>\n",
       "</div>"
      ],
      "text/plain": [
       "   Index patient_id cohort  sexM    gene  age_at_diagnosis   age   ledd  \\\n",
       "0      0   IPLP5212      A     0  LRRK2+              48.5  52.1  607.0   \n",
       "1      1   IPLP5212      A     0  LRRK2+              48.5  53.0  666.0   \n",
       "2      2   IPLP5212      A     0  LRRK2+              48.5  53.9  717.0   \n",
       "3      3   IPLP5212      A     0  LRRK2+              48.5  54.8  770.0   \n",
       "4      4   IPLP5212      A     0  LRRK2+              48.5  56.9  885.0   \n",
       "\n",
       "   time_since_intake_on  time_since_intake_off    on   off  \n",
       "0                   1.9                    NaN   7.0   NaN  \n",
       "1                   1.9                   17.6  12.0  44.0  \n",
       "2                   1.2                    NaN   6.0   NaN  \n",
       "3                   1.5                    NaN  11.0   NaN  \n",
       "4                   0.3                    NaN  24.0   NaN  "
      ]
     },
     "execution_count": 3,
     "metadata": {},
     "output_type": "execute_result"
    }
   ],
   "source": [
    "X.head()"
   ]
  },
  {
   "cell_type": "code",
   "execution_count": 4,
   "metadata": {},
   "outputs": [
    {
     "data": {
      "text/plain": [
       "23407"
      ]
     },
     "execution_count": 4,
     "metadata": {},
     "output_type": "execute_result"
    }
   ],
   "source": [
    "X['off'].isna().sum()"
   ]
  },
  {
   "cell_type": "code",
   "execution_count": 10,
   "metadata": {},
   "outputs": [],
   "source": [
    "from preprocess import PreprocessData\n",
    "\n",
    "preprocess4 = PreprocessData('data/X_train_6ZIKlTY.csv', 'data/y_train_lXj6X5y.csv')"
   ]
  },
  {
   "cell_type": "code",
   "execution_count": 9,
   "metadata": {},
   "outputs": [
    {
     "ename": "AttributeError",
     "evalue": "'PreprocessData' object has no attribute 'get_X'",
     "output_type": "error",
     "traceback": [
      "\u001b[0;31m---------------------------------------------------------------------------\u001b[0m",
      "\u001b[0;31mAttributeError\u001b[0m                            Traceback (most recent call last)",
      "Cell \u001b[0;32mIn[9], line 1\u001b[0m\n\u001b[0;32m----> 1\u001b[0m \u001b[43mpreprocess4\u001b[49m\u001b[38;5;241;43m.\u001b[39;49m\u001b[43mget_X\u001b[49m()\n",
      "\u001b[0;31mAttributeError\u001b[0m: 'PreprocessData' object has no attribute 'get_X'"
     ]
    }
   ],
   "source": []
  }
 ],
 "metadata": {
  "kernelspec": {
   "display_name": "Python 3",
   "language": "python",
   "name": "python3"
  },
  "language_info": {
   "codemirror_mode": {
    "name": "ipython",
    "version": 3
   },
   "file_extension": ".py",
   "mimetype": "text/x-python",
   "name": "python",
   "nbconvert_exporter": "python",
   "pygments_lexer": "ipython3",
   "version": "3.10.12"
  }
 },
 "nbformat": 4,
 "nbformat_minor": 2
}
