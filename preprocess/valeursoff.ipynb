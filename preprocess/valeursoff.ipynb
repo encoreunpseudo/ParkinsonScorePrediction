{
 "cells": [
  {
   "cell_type": "code",
   "execution_count": 36,
   "metadata": {},
   "outputs": [],
   "source": [
    "import pandas as pd\n",
    "import numpy as np\n",
    "import matplotlib.pyplot as plt\n",
    "import seaborn as sns\n",
    "\n",
    "X = pd.read_csv('data/X_train_6ZIKlTY.csv')\n",
    "y = pd.read_csv('data/y_train_lXj6X5y.csv')\n",
    "X_chall=pd.read_csv('data/X_test_oiZ2ukx.csv')\n"
   ]
  },
  {
   "cell_type": "code",
   "execution_count": 3,
   "metadata": {},
   "outputs": [
    {
     "data": {
      "text/html": [
       "<div>\n",
       "<style scoped>\n",
       "    .dataframe tbody tr th:only-of-type {\n",
       "        vertical-align: middle;\n",
       "    }\n",
       "\n",
       "    .dataframe tbody tr th {\n",
       "        vertical-align: top;\n",
       "    }\n",
       "\n",
       "    .dataframe thead th {\n",
       "        text-align: right;\n",
       "    }\n",
       "</style>\n",
       "<table border=\"1\" class=\"dataframe\">\n",
       "  <thead>\n",
       "    <tr style=\"text-align: right;\">\n",
       "      <th></th>\n",
       "      <th>Index</th>\n",
       "      <th>patient_id</th>\n",
       "      <th>cohort</th>\n",
       "      <th>sexM</th>\n",
       "      <th>gene</th>\n",
       "      <th>age_at_diagnosis</th>\n",
       "      <th>age</th>\n",
       "      <th>ledd</th>\n",
       "      <th>time_since_intake_on</th>\n",
       "      <th>time_since_intake_off</th>\n",
       "      <th>on</th>\n",
       "      <th>off</th>\n",
       "    </tr>\n",
       "  </thead>\n",
       "  <tbody>\n",
       "    <tr>\n",
       "      <th>0</th>\n",
       "      <td>0</td>\n",
       "      <td>IPLP5212</td>\n",
       "      <td>A</td>\n",
       "      <td>0</td>\n",
       "      <td>LRRK2+</td>\n",
       "      <td>48.5</td>\n",
       "      <td>52.1</td>\n",
       "      <td>607.0</td>\n",
       "      <td>1.9</td>\n",
       "      <td>NaN</td>\n",
       "      <td>7.0</td>\n",
       "      <td>NaN</td>\n",
       "    </tr>\n",
       "    <tr>\n",
       "      <th>1</th>\n",
       "      <td>1</td>\n",
       "      <td>IPLP5212</td>\n",
       "      <td>A</td>\n",
       "      <td>0</td>\n",
       "      <td>LRRK2+</td>\n",
       "      <td>48.5</td>\n",
       "      <td>53.0</td>\n",
       "      <td>666.0</td>\n",
       "      <td>1.9</td>\n",
       "      <td>17.6</td>\n",
       "      <td>12.0</td>\n",
       "      <td>44.0</td>\n",
       "    </tr>\n",
       "    <tr>\n",
       "      <th>2</th>\n",
       "      <td>2</td>\n",
       "      <td>IPLP5212</td>\n",
       "      <td>A</td>\n",
       "      <td>0</td>\n",
       "      <td>LRRK2+</td>\n",
       "      <td>48.5</td>\n",
       "      <td>53.9</td>\n",
       "      <td>717.0</td>\n",
       "      <td>1.2</td>\n",
       "      <td>NaN</td>\n",
       "      <td>6.0</td>\n",
       "      <td>NaN</td>\n",
       "    </tr>\n",
       "    <tr>\n",
       "      <th>3</th>\n",
       "      <td>3</td>\n",
       "      <td>IPLP5212</td>\n",
       "      <td>A</td>\n",
       "      <td>0</td>\n",
       "      <td>LRRK2+</td>\n",
       "      <td>48.5</td>\n",
       "      <td>54.8</td>\n",
       "      <td>770.0</td>\n",
       "      <td>1.5</td>\n",
       "      <td>NaN</td>\n",
       "      <td>11.0</td>\n",
       "      <td>NaN</td>\n",
       "    </tr>\n",
       "    <tr>\n",
       "      <th>4</th>\n",
       "      <td>4</td>\n",
       "      <td>IPLP5212</td>\n",
       "      <td>A</td>\n",
       "      <td>0</td>\n",
       "      <td>LRRK2+</td>\n",
       "      <td>48.5</td>\n",
       "      <td>56.9</td>\n",
       "      <td>885.0</td>\n",
       "      <td>0.3</td>\n",
       "      <td>NaN</td>\n",
       "      <td>24.0</td>\n",
       "      <td>NaN</td>\n",
       "    </tr>\n",
       "  </tbody>\n",
       "</table>\n",
       "</div>"
      ],
      "text/plain": [
       "   Index patient_id cohort  sexM    gene  age_at_diagnosis   age   ledd  \\\n",
       "0      0   IPLP5212      A     0  LRRK2+              48.5  52.1  607.0   \n",
       "1      1   IPLP5212      A     0  LRRK2+              48.5  53.0  666.0   \n",
       "2      2   IPLP5212      A     0  LRRK2+              48.5  53.9  717.0   \n",
       "3      3   IPLP5212      A     0  LRRK2+              48.5  54.8  770.0   \n",
       "4      4   IPLP5212      A     0  LRRK2+              48.5  56.9  885.0   \n",
       "\n",
       "   time_since_intake_on  time_since_intake_off    on   off  \n",
       "0                   1.9                    NaN   7.0   NaN  \n",
       "1                   1.9                   17.6  12.0  44.0  \n",
       "2                   1.2                    NaN   6.0   NaN  \n",
       "3                   1.5                    NaN  11.0   NaN  \n",
       "4                   0.3                    NaN  24.0   NaN  "
      ]
     },
     "execution_count": 3,
     "metadata": {},
     "output_type": "execute_result"
    }
   ],
   "source": [
    "X.head()"
   ]
  },
  {
   "cell_type": "code",
   "execution_count": 24,
   "metadata": {},
   "outputs": [
    {
     "data": {
      "text/html": [
       "<div>\n",
       "<style scoped>\n",
       "    .dataframe tbody tr th:only-of-type {\n",
       "        vertical-align: middle;\n",
       "    }\n",
       "\n",
       "    .dataframe tbody tr th {\n",
       "        vertical-align: top;\n",
       "    }\n",
       "\n",
       "    .dataframe thead th {\n",
       "        text-align: right;\n",
       "    }\n",
       "</style>\n",
       "<table border=\"1\" class=\"dataframe\">\n",
       "  <thead>\n",
       "    <tr style=\"text-align: right;\">\n",
       "      <th></th>\n",
       "      <th>Index</th>\n",
       "      <th>patient_id</th>\n",
       "      <th>cohort</th>\n",
       "      <th>sexM</th>\n",
       "      <th>gene</th>\n",
       "      <th>age_at_diagnosis</th>\n",
       "      <th>age</th>\n",
       "      <th>ledd</th>\n",
       "      <th>time_since_intake_on</th>\n",
       "      <th>time_since_intake_off</th>\n",
       "      <th>on</th>\n",
       "      <th>off</th>\n",
       "      <th>time_since_diagnosis</th>\n",
       "    </tr>\n",
       "  </thead>\n",
       "  <tbody>\n",
       "  </tbody>\n",
       "</table>\n",
       "</div>"
      ],
      "text/plain": [
       "Empty DataFrame\n",
       "Columns: [Index, patient_id, cohort, sexM, gene, age_at_diagnosis, age, ledd, time_since_intake_on, time_since_intake_off, on, off, time_since_diagnosis]\n",
       "Index: []"
      ]
     },
     "execution_count": 24,
     "metadata": {},
     "output_type": "execute_result"
    }
   ],
   "source": [
    "v=X_chall[X_chall['off'].isna()]\n",
    "v=v[v['on'].isna()]\n",
    "v.head()"
   ]
  },
  {
   "cell_type": "code",
   "execution_count": 50,
   "metadata": {},
   "outputs": [],
   "source": [
    "from preprocess4 import PreprocessData\n",
    "\n"
   ]
  },
  {
   "cell_type": "code",
   "execution_count": 51,
   "metadata": {},
   "outputs": [
    {
     "name": "stdout",
     "output_type": "stream",
     "text": [
      "coucou\n",
      "coucou 2\n",
      "Coucou 3\n"
     ]
    }
   ],
   "source": [
    "x_2=PreprocessData('data/X_train_6ZIKlTY.csv','data/X_train_6ZIKlTY.csv')"
   ]
  },
  {
   "cell_type": "code",
   "execution_count": 52,
   "metadata": {},
   "outputs": [
    {
     "data": {
      "text/plain": [
       "Index                    0.000000\n",
       "cohort                   0.000000\n",
       "sexM                     0.000000\n",
       "age_at_diagnosis         0.050897\n",
       "age                      0.000000\n",
       "ledd                     0.370358\n",
       "time_since_intake_on     0.466522\n",
       "time_since_intake_off    0.788231\n",
       "on                       0.299606\n",
       "off                      0.420966\n",
       "est_LRRK2+               0.000000\n",
       "est_GBA+                 0.000000\n",
       "est_OTHER+               0.000000\n",
       "dtype: float64"
      ]
     },
     "execution_count": 52,
     "metadata": {},
     "output_type": "execute_result"
    }
   ],
   "source": [
    "x_2.get_X().isna().mean()"
   ]
  },
  {
   "cell_type": "code",
   "execution_count": null,
   "metadata": {},
   "outputs": [],
   "source": [
    "x_2.groupby()"
   ]
  }
 ],
 "metadata": {
  "kernelspec": {
   "display_name": "Python 3",
   "language": "python",
   "name": "python3"
  },
  "language_info": {
   "codemirror_mode": {
    "name": "ipython",
    "version": 3
   },
   "file_extension": ".py",
   "mimetype": "text/x-python",
   "name": "python",
   "nbconvert_exporter": "python",
   "pygments_lexer": "ipython3",
   "version": "3.10.12"
  }
 },
 "nbformat": 4,
 "nbformat_minor": 2
}
